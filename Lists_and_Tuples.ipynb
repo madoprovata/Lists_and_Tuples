{
 "cells": [
  {
   "cell_type": "code",
   "execution_count": 49,
   "id": "ab221249-181a-4375-9032-326ccd41072b",
   "metadata": {},
   "outputs": [
    {
     "name": "stdout",
     "output_type": "stream",
     "text": [
      "Average Temperature: 34.042857142857144\n"
     ]
    }
   ],
   "source": [
    "#1. LISTS\n",
    "\n",
    "#Daily temp collected from sensors\n",
    "daily_temp = [32.5, 32.2, 33.0, 35.0, 34.1, 36.1, 35.4]\n",
    "print(f'Average Temperature: {(sum(daily_temp)/len(daily_temp))}')"
   ]
  },
  {
   "cell_type": "code",
   "execution_count": 50,
   "id": "c4314369-f8f4-40d8-8ec9-94cff72a4dd5",
   "metadata": {},
   "outputs": [
    {
     "name": "stdout",
     "output_type": "stream",
     "text": [
      "34.1\n"
     ]
    }
   ],
   "source": [
    "#Accessing Element\n",
    "print(daily_temp[4]) #value in the 4th place"
   ]
  },
  {
   "cell_type": "code",
   "execution_count": 51,
   "id": "30029e3c-4718-48d8-8007-8a37c8004c69",
   "metadata": {},
   "outputs": [
    {
     "name": "stdout",
     "output_type": "stream",
     "text": [
      "[33.0, 35.0, 34.1, 36.1]\n",
      "[32.5, 32.2, 33.0]\n",
      "[33.7, 32.2, 33.0, 35.0, 34.1, 36.1, 35.4]\n"
     ]
    }
   ],
   "source": [
    "#Slicing\n",
    "print(daily_temp[-5:-1])\n",
    "print(daily_temp[:3]) #first three values\n",
    "\n",
    "daily_temp[0] = 33.7 #Changing values\n",
    "print(daily_temp)"
   ]
  },
  {
   "cell_type": "code",
   "execution_count": 52,
   "id": "73fe035e-c526-404b-b7cf-bc2f5c3873d7",
   "metadata": {},
   "outputs": [
    {
     "name": "stdout",
     "output_type": "stream",
     "text": [
      "[33.7, 32.2, 33.0, 35.0, 34.1, 36.1, 35.4, 36.2]\n"
     ]
    }
   ],
   "source": [
    "#Append, adding a new value\n",
    "daily_temp.append(36.2)\n",
    "print(daily_temp)"
   ]
  },
  {
   "cell_type": "code",
   "execution_count": 53,
   "id": "f2504ac4-1b0f-4002-9d61-9e34ed263247",
   "metadata": {},
   "outputs": [
    {
     "name": "stdout",
     "output_type": "stream",
     "text": [
      "[33.7, 32.2, 33.0, 33.6, 35.0, 34.1, 36.1, 35.4, 36.2]\n"
     ]
    }
   ],
   "source": [
    "#Insert a new value on SPECIFIC position\n",
    "daily_temp.insert(3, 33.6)\n",
    "print(daily_temp)"
   ]
  },
  {
   "cell_type": "code",
   "execution_count": 54,
   "id": "08b0374b-7a91-4417-99f6-bf19751d3e56",
   "metadata": {},
   "outputs": [
    {
     "name": "stdout",
     "output_type": "stream",
     "text": [
      "[33.7, 32.2, 33.0, 33.6, 35.0, 34.1, 36.1, 35.4]\n"
     ]
    }
   ],
   "source": [
    "#Removing a value\n",
    "daily_temp.remove(36.2)\n",
    "print(daily_temp)"
   ]
  },
  {
   "cell_type": "code",
   "execution_count": 55,
   "id": "e64c5d66-19ca-4cca-84f4-1e00a46087c1",
   "metadata": {},
   "outputs": [
    {
     "name": "stdout",
     "output_type": "stream",
     "text": [
      "Minimum Temperature: 32.2\n",
      "Maximum Temperature: 36.1\n"
     ]
    }
   ],
   "source": [
    "#Minimum and Maximum\n",
    "print(f'Minimum Temperature: {min(daily_temp)}')\n",
    "print(f'Maximum Temperature: {max(daily_temp)}')"
   ]
  },
  {
   "cell_type": "code",
   "execution_count": 56,
   "id": "50f79488-302e-421a-be0b-c17d204d09c9",
   "metadata": {},
   "outputs": [
    {
     "name": "stdout",
     "output_type": "stream",
     "text": [
      "[32.2, 33.0, 33.6, 33.7, 34.1, 35.0, 35.4, 36.1]\n"
     ]
    }
   ],
   "source": [
    "#Sort, in ascending order\n",
    "daily_temp.sort()\n",
    "print(daily_temp)"
   ]
  },
  {
   "cell_type": "code",
   "execution_count": 57,
   "id": "a484fda9-ad3a-4115-ac95-e01fb887d0f7",
   "metadata": {},
   "outputs": [
    {
     "name": "stdout",
     "output_type": "stream",
     "text": [
      "[32.2, 32.2, 33.0, 33.0, 33.6, 33.6, 33.7, 33.7, 34.1, 34.1, 35.0, 35.0, 35.4, 35.4, 36.1, 36.1]\n"
     ]
    }
   ],
   "source": [
    "#Sorting a list while doubling it\n",
    "double_daily_temp = sorted(daily_temp * 2)\n",
    "print(double_daily_temp)"
   ]
  },
  {
   "cell_type": "code",
   "execution_count": 58,
   "id": "dda45d02-91b2-4a31-b5ca-dc05e91cd726",
   "metadata": {},
   "outputs": [
    {
     "name": "stdout",
     "output_type": "stream",
     "text": [
      "[32.2, 33.0, 33.6, 33.7, 35.0, 35.4, 36.1]\n"
     ]
    }
   ],
   "source": [
    "#Deleting 4th element\n",
    "del daily_temp[4]\n",
    "print(daily_temp)"
   ]
  },
  {
   "cell_type": "code",
   "execution_count": 59,
   "id": "ad3d8248-f0de-4c7f-8089-8443580c7179",
   "metadata": {},
   "outputs": [],
   "source": [
    "#2. TUPLES - cannot change the tuple\n",
    "#Daily temp collected from sensors\n",
    "daily_temp = (32.5, 32.2, 33.0, 35.0, 34.1, 36.1, 35.4)\n",
    "temp = (33.6, 37.4)"
   ]
  },
  {
   "cell_type": "code",
   "execution_count": 60,
   "id": "9ab4e449-389b-4af0-8b92-665abdcd3d6b",
   "metadata": {},
   "outputs": [
    {
     "name": "stdout",
     "output_type": "stream",
     "text": [
      "(32.5, 32.2, 33.0, 35.0, 34.1, 36.1, 35.4, 33.6, 37.4)\n"
     ]
    }
   ],
   "source": [
    "#Combine\n",
    "print(daily_temp + temp)"
   ]
  },
  {
   "cell_type": "code",
   "execution_count": 61,
   "id": "4b9f23f2-9d9c-4211-9ef5-9bd1616f6813",
   "metadata": {},
   "outputs": [
    {
     "name": "stdout",
     "output_type": "stream",
     "text": [
      "34.1\n"
     ]
    }
   ],
   "source": [
    "#Accessing Element\n",
    "print(daily_temp[4]) #value in the 4th place"
   ]
  },
  {
   "cell_type": "code",
   "execution_count": 62,
   "id": "191cfe2a-c28f-47c3-8bf3-341588637bd4",
   "metadata": {},
   "outputs": [
    {
     "name": "stdout",
     "output_type": "stream",
     "text": [
      "(33.0, 35.0, 34.1, 36.1)\n",
      "(32.5, 32.2, 33.0)\n"
     ]
    }
   ],
   "source": [
    "#Slicing\n",
    "print(daily_temp[-5:-1])\n",
    "print(daily_temp[:3]) #first three values"
   ]
  },
  {
   "cell_type": "code",
   "execution_count": 63,
   "id": "e56bde09-9906-450e-b52f-1c2803dd3aef",
   "metadata": {},
   "outputs": [
    {
     "name": "stdout",
     "output_type": "stream",
     "text": [
      "(32.5, 32.2, 33.0, 35.0, 34.1, 36.1, 35.4, 32.5, 32.2, 33.0, 35.0, 34.1, 36.1, 35.4)\n"
     ]
    }
   ],
   "source": [
    "#Multiplying Lists\n",
    "print(daily_temp *2)"
   ]
  },
  {
   "cell_type": "code",
   "execution_count": 64,
   "id": "6a9b5c36-5fea-4941-956e-327dede3fa4c",
   "metadata": {},
   "outputs": [
    {
     "name": "stdout",
     "output_type": "stream",
     "text": [
      "6\n"
     ]
    }
   ],
   "source": [
    "#Find Index Value\n",
    "print(daily_temp.index(35.4))"
   ]
  },
  {
   "cell_type": "code",
   "execution_count": 65,
   "id": "6d853571-7ddd-42d9-834d-bbe9ec1ef13b",
   "metadata": {},
   "outputs": [
    {
     "name": "stdout",
     "output_type": "stream",
     "text": [
      "[32.5, 32.2, 33.0, 35.0, 34.1, 36.1, 35.4]\n"
     ]
    }
   ],
   "source": [
    "#Convert tuple to list\n",
    "temp_list = list(daily_temp)\n",
    "print(temp_list)"
   ]
  },
  {
   "cell_type": "code",
   "execution_count": 66,
   "id": "739cf90d-a761-4675-9b69-4964cce81dae",
   "metadata": {},
   "outputs": [
    {
     "name": "stdout",
     "output_type": "stream",
     "text": [
      "(32.5, 32.2, 33.0, 35.0, 34.1, 36.1, 35.4)\n"
     ]
    }
   ],
   "source": [
    "#Convert list to tuple\n",
    "temp_tuple = tuple(daily_temp)\n",
    "print(temp_tuple)"
   ]
  },
  {
   "cell_type": "code",
   "execution_count": null,
   "id": "0c1c28c2-71ee-4896-ad2e-3e7257047a58",
   "metadata": {},
   "outputs": [],
   "source": []
  }
 ],
 "metadata": {
  "kernelspec": {
   "display_name": "Python 3 (ipykernel)",
   "language": "python",
   "name": "python3"
  },
  "language_info": {
   "codemirror_mode": {
    "name": "ipython",
    "version": 3
   },
   "file_extension": ".py",
   "mimetype": "text/x-python",
   "name": "python",
   "nbconvert_exporter": "python",
   "pygments_lexer": "ipython3",
   "version": "3.12.7"
  }
 },
 "nbformat": 4,
 "nbformat_minor": 5
}
